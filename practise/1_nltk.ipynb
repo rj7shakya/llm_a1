{
 "cells": [
  {
   "cell_type": "code",
   "execution_count": 1,
   "metadata": {},
   "outputs": [
    {
     "name": "stdout",
     "output_type": "stream",
     "text": [
      "{'S': [['NP', 'VP']], 'VP': [['Verb', 'NP']], 'NP': [['Det', 'Noun'], ['NP', 'PP']], 'PP': [['Prep', 'NP']], 'Noun': [['Adj', 'Noun'], 'president', 'sandwich', 'pickle', 'chief of staff', 'floor'], 'Verb': ['ate', 'wanted', 'kissed', 'understood', 'pickled'], 'Det': ['the', 'a', 'every'], 'Adj': ['fine', 'delicious', 'perplexed', 'pickled'], 'Prep': ['with', 'on', 'under', 'in']}\n"
     ]
    }
   ],
   "source": [
    "import os\n",
    "\n",
    "def check_terminals(str):\n",
    "  word_list = str.split(' ')\n",
    "  return not all(word[0].isupper() for word in word_list)\n",
    "\n",
    "def read_grammar_from_file(file_path):\n",
    "    grammar_dict = {}\n",
    "    with open(file_path, 'r') as file:\n",
    "        for line in file:\n",
    "            list = line.strip().split(\"\\t\")\n",
    "            if len(list) ==3:\n",
    "                _, symbol, *productions = list\n",
    "                if symbol != 'ROOT':\n",
    "                    productions = productions[0] if check_terminals(productions[0]) else productions[0].split(\" \")\n",
    "                    productions = productions if len(productions) == 1 else [productions]\n",
    "                    if symbol in grammar_dict:\n",
    "                        grammar_dict[symbol] += productions \n",
    "                    else:\n",
    "                        grammar_dict[symbol] = productions \n",
    "    return grammar_dict\n",
    "\n",
    "\n",
    "file_path = 'grammar.gr'\n",
    "grammar_dict = read_grammar_from_file(os.path.join(os.getcwd(),file_path))\n",
    "print(grammar_dict)"
   ]
  },
  {
   "cell_type": "code",
   "execution_count": 35,
   "metadata": {},
   "outputs": [
    {
     "name": "stdout",
     "output_type": "stream",
     "text": [
      "S -> NP VP\n",
      "VP -> Verb NP\n",
      "NP -> Det Noun | NP PP\n",
      "PP -> Prep NP\n",
      "Noun -> Adj Noun | 'president' | 'sandwich' | 'pickle' | 'chiefOfstaff' | 'floor'\n",
      "Verb -> 'ate' | 'wanted' | 'kissed' | 'understood' | 'pickled'\n",
      "Det -> 'the' | 'a' | 'every'\n",
      "Adj -> 'fine' | 'delicious' | 'perplexed' | 'pickled'\n",
      "Prep -> 'with' | 'on' | 'under' | 'in'\n",
      "\n"
     ]
    }
   ],
   "source": [
    "def convert_to_string(grammar):\n",
    "    result = \"\"\n",
    "    for symbol, productions in grammar.items():\n",
    "        result += f\"{symbol} -> \"\n",
    "        if isinstance(productions[0], list):\n",
    "            for i,production in enumerate(productions):\n",
    "                if isinstance(production, list):\n",
    "                    start = '' if i == 0 else ' | '\n",
    "                    result += start+ ' '.join(p for p in production)\n",
    "                else:\n",
    "                    result += ' | '+f\"'{production}'\"\n",
    "        else:\n",
    "            result += ' | '.join(f\"'{p}'\" for p in productions)\n",
    "        result += '\\n'\n",
    "    return result\n",
    "\n",
    "converted_string = convert_to_string(grammar_dict)\n",
    "print(converted_string)"
   ]
  },
  {
   "cell_type": "code",
   "execution_count": 65,
   "metadata": {},
   "outputs": [],
   "source": [
    "\n",
    "\n",
    "# example_grammer = \"\"\"\n",
    "# \tS -> NP VP\n",
    "#     VP -> V NP\n",
    "#     NP -> Det Noun | Noun PP\n",
    "#     PP -> P NP\n",
    "#     Noun -> Adj Noun | 'president' | 'sandwich' | 'pickle' | 'chiefOfstaff' | 'floor'\n",
    "#     Det -> 'the' | 'a' | 'every'\n",
    "#     V -> 'ate' | 'wanted' | 'kissed' | 'understood' | 'pickled'\n",
    "# \tAdj -> 'fine' | 'delicious' | 'perplexed' | 'pickled'\n",
    "#     P -> 'with' | 'on' | 'under' | 'in'\n",
    "# \"\"\"\n",
    "    # N -> 'president' | 'sandwich' | 'pickle' | 'chief of staff' | 'floor'"
   ]
  },
  {
   "cell_type": "code",
   "execution_count": 66,
   "metadata": {},
   "outputs": [],
   "source": [
    "from nltk.parse.generate import generate\n",
    "from nltk import CFG\n",
    "\n",
    "grammer = CFG.fromstring(converted_string)\n",
    "# grammer2 = CFG.fromstring(example_grammer)\n"
   ]
  },
  {
   "cell_type": "code",
   "execution_count": 67,
   "metadata": {},
   "outputs": [],
   "source": [
    "def append_to_file(filename, content):\n",
    "    with open(filename, 'a') as file:\n",
    "        file.write(content + '\\n')"
   ]
  },
  {
   "cell_type": "code",
   "execution_count": 70,
   "metadata": {},
   "outputs": [],
   "source": [
    "file_name = 'output.txt'\n",
    "\n",
    "for sentence in generate(grammer, n=10000, depth=6):\n",
    "    append_to_file(file_name, ' '.join(sentence))"
   ]
  },
  {
   "cell_type": "code",
   "execution_count": null,
   "metadata": {},
   "outputs": [],
   "source": []
  }
 ],
 "metadata": {
  "kernelspec": {
   "display_name": "Python 3",
   "language": "python",
   "name": "python3"
  },
  "language_info": {
   "codemirror_mode": {
    "name": "ipython",
    "version": 3
   },
   "file_extension": ".py",
   "mimetype": "text/x-python",
   "name": "python",
   "nbconvert_exporter": "python",
   "pygments_lexer": "ipython3",
   "version": "3.9.6"
  }
 },
 "nbformat": 4,
 "nbformat_minor": 2
}
